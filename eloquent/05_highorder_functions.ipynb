{
 "cells": [
  {
   "cell_type": "markdown",
   "metadata": {},
   "source": [
    "# High Order Functions\n",
    "\n",
    "* They are functions that have receive other functions and use them to process anything, some examples are:\n",
    "  * `filter`: filter array values based on function\n",
    "  * `forEach`: iterate over array;\n",
    "  * `reduce`: start and operate over two elements of array;\n",
    "  * `sum`:\n",
    "  * `some`: return true if any values in array return true for a given function\n",
    "  * `every`: return true if all values in array return true for a given function\n",
    "  * etc\n",
    "\n",
    "That function use abstraction concept that allow us ommit real operation"
   ]
  },
  {
   "cell_type": "markdown",
   "metadata": {},
   "source": [
    "* predicate are functions that receive a value and return true or false"
   ]
  },
  {
   "cell_type": "markdown",
   "metadata": {
    "vscode": {
     "languageId": "plaintext"
    }
   },
   "source": [
    "Example with dataset processing"
   ]
  },
  {
   "cell_type": "code",
   "execution_count": 15,
   "metadata": {
    "dotnet_interactive": {
     "language": "javascript"
    },
    "polyglot_notebook": {
     "kernelName": "javascript"
    },
    "vscode": {
     "languageId": "polyglot-notebook"
    }
   },
   "outputs": [
    {
     "data": {
      "application/json": [
       "Adlam",
       "Cypriot"
      ]
     },
     "metadata": {},
     "output_type": "display_data"
    }
   ],
   "source": [
    "// Generated from the Unicode 10 database and https://en.wikipedia.org/wiki/Script_(Unicode)\n",
    "\n",
    "var SCRIPTS = [\n",
    "  {\n",
    "    name: \"Adlam\",\n",
    "    ranges: [[125184, 125259], [125264, 125274], [125278, 125280]],\n",
    "    direction: \"rtl\",\n",
    "    year: 1987,\n",
    "    living: true,\n",
    "    link: \"https://en.wikipedia.org/wiki/Fula_alphabets#Adlam_alphabet\"\n",
    "  },\n",
    "  {\n",
    "    name: \"Buhid\",\n",
    "    ranges: [[5952, 5972]],\n",
    "    direction: \"ltr\",\n",
    "    year: 1300,\n",
    "    living: true,\n",
    "    link: \"https://en.wikipedia.org/wiki/Buhid_alphabet\"\n",
    "  },\n",
    "  {\n",
    "    name: \"Chakma\",\n",
    "    ranges: [[69888, 69941], [69942, 69956]],\n",
    "    direction: \"ltr\",\n",
    "    year: 1050,\n",
    "    living: true,\n",
    "    link: \"https://en.wikipedia.org/wiki/Chakma_alphabet\"\n",
    "  },\n",
    "  {\n",
    "    name: \"Canadian Aboriginal\",\n",
    "    ranges: [[5120, 5760], [6320, 6390]],\n",
    "    direction: \"ltr\",\n",
    "    year: 1840,\n",
    "    living: true,\n",
    "    link: \"https://en.wikipedia.org/wiki/Canadian_Aboriginal_syllabics\"\n",
    "  },\n",
    "  {\n",
    "    name: \"Carian\",\n",
    "    ranges: [[66208, 66257]],\n",
    "    direction: \"ltr\",\n",
    "    year: -650,\n",
    "    living: false,\n",
    "    link: \"https://en.wikipedia.org/wiki/Carian_alphabets\"\n",
    "  },\n",
    "  {\n",
    "    name: \"Cham\",\n",
    "    ranges: [[43520, 43575], [43584, 43598], [43600, 43610], [43612, 43616]],\n",
    "    direction: \"ltr\",\n",
    "    year: 750,\n",
    "    living: true,\n",
    "    link: \"https://en.wikipedia.org/wiki/Cham_alphabet\"\n",
    "  },\n",
    "  {\n",
    "    name: \"Cherokee\",\n",
    "    ranges: [[5024, 5110], [5112, 5118], [43888, 43968]],\n",
    "    direction: \"ltr\",\n",
    "    year: 1820,\n",
    "    living: true,\n",
    "    link: \"https://en.wikipedia.org/wiki/Cherokee_syllabary\"\n",
    "  },\n",
    "  {\n",
    "    name: \"Coptic\",\n",
    "    ranges: [[994, 1008], [11392, 11508], [11513, 11520]],\n",
    "    direction: \"ltr\",\n",
    "    year: -200,\n",
    "    living: false,\n",
    "    link: \"https://en.wikipedia.org/wiki/Coptic_alphabet\"\n",
    "  },\n",
    "  {\n",
    "    name: \"Cypriot\",\n",
    "    ranges: [[67584, 67590], [67592, 67593], [67594, 67638], [67639, 67641], [67644, 67645], [67647, 67648]],\n",
    "    direction: \"rtl\",\n",
    "    year: -1100,\n",
    "    living: false,\n",
    "    link: \"https://en.wikipedia.org/wiki/Cypriot_syllabary\"\n",
    "  },\n",
    "\n",
    "];\n",
    "\n",
    "// this function act over array, but need receive array to processing\n",
    "function filter(array, test) {\n",
    "  let passed = [];\n",
    "  for (let element of array) {\n",
    "    if (test(element)) {\n",
    "      passed.push(element);\n",
    "    }\n",
    "    }\n",
    "  return passed;\n",
    "}\n",
    "\n",
    "// console.log(filter(SCRIPTS, script => script.living));\n",
    "// → [{name: \"Adlam\", …}, …]\n",
    "\n",
    "// this is inplace function\n",
    "// console.log(SCRIPTS.filter(s => s.direction == \"rtl\"));\n",
    "\n",
    "// map function\n",
    "let rtlScripts = SCRIPTS.filter(s => s.direction == \"rtl\");\n",
    "console.log(rtlScripts.map( s => s.name));\n"
   ]
  },
  {
   "cell_type": "markdown",
   "metadata": {},
   "source": [
    "## Exercises to practice this concepts"
   ]
  },
  {
   "cell_type": "markdown",
   "metadata": {},
   "source": [
    "##### 1. Flattening\n",
    "Use the reduce method in combination with the concat method to “flatten” an array of arrays into a single array that has all the elements of the original arrays."
   ]
  },
  {
   "cell_type": "code",
   "execution_count": 28,
   "metadata": {
    "dotnet_interactive": {
     "language": "javascript"
    },
    "polyglot_notebook": {
     "kernelName": "javascript"
    },
    "vscode": {
     "languageId": "polyglot-notebook"
    }
   },
   "outputs": [
    {
     "data": {
      "application/json": [
       1,
       2,
       3,
       4,
       5,
       6
      ]
     },
     "metadata": {},
     "output_type": "display_data"
    }
   ],
   "source": [
    "let arrays = [[1, 2, 3], [4, 5], [6]];\n",
    "\n",
    "const result  = arrays.reduce((a, b) => a.concat(b), [])\n",
    "\n",
    "console.log(result)"
   ]
  }
 ],
 "metadata": {
  "language_info": {
   "name": "python"
  }
 },
 "nbformat": 4,
 "nbformat_minor": 2
}
