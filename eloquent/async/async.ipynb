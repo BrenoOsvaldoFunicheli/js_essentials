{
 "cells": [
  {
   "cell_type": "markdown",
   "metadata": {},
   "source": [
    "## async "
   ]
  },
  {
   "cell_type": "code",
   "execution_count": null,
   "metadata": {
    "vscode": {
     "languageId": "polyglot-notebook"
    }
   },
   "outputs": [],
   "source": [
    " An async function implicitly returns a promise and can, in its body, await other promises in a way that looks synchronous.\n",
    "\n"
   ]
  },
  {
   "cell_type": "code",
   "execution_count": 1,
   "metadata": {
    "dotnet_interactive": {
     "language": "javascript"
    },
    "polyglot_notebook": {
     "kernelName": "javascript"
    },
    "vscode": {
     "languageId": "polyglot-notebook"
    }
   },
   "outputs": [],
   "source": [
    "async function crackPasscode(networkID) {\n",
    "  for (let code = \"\";;) {\n",
    "    for (let digit = 0;; digit++) {\n",
    "      let newCode = code + digit;\n",
    "      try {\n",
    "        await withTimeout(joinWifi(networkID, newCode), 50);\n",
    "        return newCode;\n",
    "      } catch (failure) {\n",
    "        if (failure == \"Timed out\") {\n",
    "          code = newCode;\n",
    "          break;\n",
    "        } else if (digit == 9) {\n",
    "          throw failure;\n",
    "        }\n",
    "      }\n",
    "    }\n",
    "  }\n",
    "}"
   ]
  }
 ],
 "metadata": {
  "language_info": {
   "name": "python"
  }
 },
 "nbformat": 4,
 "nbformat_minor": 2
}
