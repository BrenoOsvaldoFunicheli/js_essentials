{
 "cells": [
  {
   "cell_type": "markdown",
   "metadata": {},
   "source": [
    "A promise is a receipt representing a value that may not be available yet.\n",
    "\n",
    "It provides a then method that allows you to register a function that should be called when the action for which it is waiting finishes."
   ]
  },
  {
   "cell_type": "markdown",
   "metadata": {},
   "source": [
    "### The easiest way to create a promise is by calling Promise.resolve"
   ]
  },
  {
   "cell_type": "code",
   "execution_count": 7,
   "metadata": {
    "dotnet_interactive": {
     "language": "javascript"
    },
    "polyglot_notebook": {
     "kernelName": "javascript"
    },
    "vscode": {
     "languageId": "polyglot-notebook"
    }
   },
   "outputs": [
    {
     "data": {
      "application/json": {}
     },
     "metadata": {},
     "output_type": "display_data"
    },
    {
     "data": {
      "text/plain": [
       "Got 15"
      ]
     },
     "metadata": {},
     "output_type": "display_data"
    }
   ],
   "source": [
    "\n",
    "\n",
    "let fifteen = Promise.resolve(15);\n",
    "console.log(fifteen)\n",
    "\n",
    "fifteen.then(value => console.log(`Got ${value}`));"
   ]
  },
  {
   "cell_type": "markdown",
   "metadata": {},
   "source": [
    "To create a promise that does not immediately resolve, you can use Promise as a constructor"
   ]
  },
  {
   "cell_type": "code",
   "execution_count": null,
   "metadata": {
    "vscode": {
     "languageId": "polyglot-notebook"
    }
   },
   "outputs": [],
   "source": []
  },
  {
   "cell_type": "code",
   "execution_count": 9,
   "metadata": {
    "dotnet_interactive": {
     "language": "javascript"
    },
    "polyglot_notebook": {
     "kernelName": "javascript"
    },
    "vscode": {
     "languageId": "polyglot-notebook"
    }
   },
   "outputs": [],
   "source": [
    "function textFile(filename) {\n",
    "    return new Promise(resolve => {\n",
    "    readTextFile(filename, text => resolve(text));\n",
    "    });\n",
    "}\n",
    "\n",
    "textFile(\"plans.txt\").then(console.log);"
   ]
  },
  {
   "cell_type": "markdown",
   "metadata": {},
   "source": [
    "## Failure"
   ]
  },
  {
   "cell_type": "markdown",
   "metadata": {},
   "source": [
    "JavaScript computations can fail by throwing an exception"
   ]
  },
  {
   "cell_type": "markdown",
   "metadata": {},
   "source": [
    "A common convention is to use the first arg to the callback to indicate error"
   ]
  },
  {
   "cell_type": "code",
   "execution_count": null,
   "metadata": {
    "vscode": {
     "languageId": "polyglot-notebook"
    }
   },
   "outputs": [],
   "source": [
    "someAsyncFunction((error, value) => {\n",
    "    if (error) handleError(error);\n",
    "    else processValue(value);\n",
    "  });"
   ]
  },
  {
   "cell_type": "markdown",
   "metadata": {},
   "source": [
    "Promises make this easier. They can be either resolved (the action finished successfully) or rejected (it failed)."
   ]
  },
  {
   "cell_type": "markdown",
   "metadata": {},
   "source": [
    "When a handler throws an exception, this automatically causes the promise produced by its then call to be rejected"
   ]
  },
  {
   "cell_type": "markdown",
   "metadata": {},
   "source": [
    "#### First way:\n",
    "\n",
    "* send two callbacks:\n",
    "  * resolve that will be called if all happen right\n",
    "  * resolve that will be called if any exception raise"
   ]
  },
  {
   "cell_type": "code",
   "execution_count": null,
   "metadata": {
    "vscode": {
     "languageId": "polyglot-notebook"
    }
   },
   "outputs": [],
   "source": [
    "function textFile(filename) {\n",
    "    return new Promise((resolve, reject) => {\n",
    "      readTextFile(filename, (text, error) => {\n",
    "        if (error) reject(error);\n",
    "        else resolve(text);\n",
    "      });\n",
    "    });\n",
    "  }"
   ]
  },
  {
   "cell_type": "markdown",
   "metadata": {},
   "source": [
    "####  promisse `.then` and `.catch` "
   ]
  },
  {
   "cell_type": "code",
   "execution_count": 4,
   "metadata": {
    "dotnet_interactive": {
     "language": "javascript"
    },
    "polyglot_notebook": {
     "kernelName": "javascript"
    },
    "vscode": {
     "languageId": "polyglot-notebook"
    }
   },
   "outputs": [],
   "source": [
    "a = new Promise((_, reject) => reject(new Error(\"Fail\")))\n",
    "  .then(value => console.log(\"Handler 1:\", value))\n",
    "  .catch(reason => {\n",
    "    console.log(\"Caught failure \" + reason);\n",
    "    return \"nothing\";\n",
    "  })\n",
    "  .then(value => console.log(\"Handler 2:\", value));\n",
    "// → Caught failure Error: Fail\n",
    "// → Handler 2: nothing\n"
   ]
  }
 ],
 "metadata": {
  "language_info": {
   "name": "python"
  }
 },
 "nbformat": 4,
 "nbformat_minor": 2
}
