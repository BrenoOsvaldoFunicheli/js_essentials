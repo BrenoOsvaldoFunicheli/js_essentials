{
 "cells": [
  {
   "cell_type": "code",
   "execution_count": 18,
   "metadata": {
    "dotnet_interactive": {
     "language": "csharp"
    },
    "polyglot_notebook": {
     "kernelName": "csharp"
    },
    "vscode": {
     "languageId": "polyglot-notebook"
    }
   },
   "outputs": [],
   "source": []
  },
  {
   "cell_type": "code",
   "execution_count": 19,
   "metadata": {
    "dotnet_interactive": {
     "language": "javascript"
    },
    "polyglot_notebook": {
     "kernelName": "javascript"
    },
    "vscode": {
     "languageId": "polyglot-notebook"
    }
   },
   "outputs": [
    {
     "data": {
      "text/plain": [
       "5"
      ]
     },
     "metadata": {},
     "output_type": "display_data"
    },
    {
     "data": {
      "text/plain": [
       "2"
      ]
     },
     "metadata": {},
     "output_type": "display_data"
    },
    {
     "data": {
      "text/plain": [
       "3"
      ]
     },
     "metadata": {},
     "output_type": "display_data"
    }
   ],
   "source": [
    "let listOfNumbers = [2, 3, 5, 7, 11];\n",
    "console.log(listOfNumbers[2]);\n",
    "// → 5\n",
    "console.log(listOfNumbers[0]);\n",
    "// → 2\n",
    "console.log(listOfNumbers[2 - 1]);\n",
    "// → 3"
   ]
  },
  {
   "cell_type": "markdown",
   "metadata": {},
   "source": [
    "The two main ways to access properties in JavaScript are with a dot and with square brackets.  \n",
    "- value.x \n",
    "- value[x]"
   ]
  },
  {
   "cell_type": "code",
   "execution_count": 20,
   "metadata": {
    "dotnet_interactive": {
     "language": "javascript"
    },
    "polyglot_notebook": {
     "kernelName": "javascript"
    },
    "vscode": {
     "languageId": "polyglot-notebook"
    }
   },
   "outputs": [
    {
     "ename": "Error",
     "evalue": "Cannot read properties of null (reading 'length')",
     "output_type": "error",
     "traceback": [
      "Cannot read properties of null (reading 'length')"
     ]
    }
   ],
   "source": [
    "null.length;\n",
    "// → TypeError: null has no properties"
   ]
  },
  {
   "cell_type": "markdown",
   "metadata": {},
   "source": [
    "- you can’t use the dot notation with numbers"
   ]
  },
  {
   "cell_type": "markdown",
   "metadata": {},
   "source": [
    "## Methods - Functions as a properties"
   ]
  },
  {
   "cell_type": "markdown",
   "metadata": {},
   "source": [
    "Properties that contain functions are generally called methods of the value they belong to, as in “toUpperCase is a method of a string”.\n",
    "\n"
   ]
  },
  {
   "cell_type": "code",
   "execution_count": 21,
   "metadata": {
    "dotnet_interactive": {
     "language": "javascript"
    },
    "polyglot_notebook": {
     "kernelName": "javascript"
    },
    "vscode": {
     "languageId": "polyglot-notebook"
    }
   },
   "outputs": [
    {
     "data": {
      "text/plain": [
       "function"
      ]
     },
     "metadata": {},
     "output_type": "display_data"
    },
    {
     "data": {
      "text/plain": [
       "DOH"
      ]
     },
     "metadata": {},
     "output_type": "display_data"
    }
   ],
   "source": [
    "let doh = \"Doh\";\n",
    "console.log(typeof doh.toUpperCase);\n",
    "// → function\n",
    "console.log(doh.toUpperCase());\n",
    "// → DOH"
   ]
  },
  {
   "cell_type": "code",
   "execution_count": 22,
   "metadata": {
    "dotnet_interactive": {
     "language": "javascript"
    },
    "polyglot_notebook": {
     "kernelName": "javascript"
    },
    "vscode": {
     "languageId": "polyglot-notebook"
    }
   },
   "outputs": [
    {
     "data": {
      "application/json": [
       1,
       2,
       3,
       4,
       5
      ]
     },
     "metadata": {},
     "output_type": "display_data"
    },
    {
     "data": {
      "text/plain": [
       "5"
      ]
     },
     "metadata": {},
     "output_type": "display_data"
    },
    {
     "data": {
      "application/json": [
       1,
       2,
       3,
       4
      ]
     },
     "metadata": {},
     "output_type": "display_data"
    }
   ],
   "source": [
    "let sequence = [1, 2, 3];\n",
    "sequence.push(4);\n",
    "sequence.push(5);\n",
    "console.log(sequence);\n",
    "// → [1, 2, 3, 4, 5]\n",
    "console.log(sequence.pop());\n",
    "// → 5\n",
    "console.log(sequence);\n",
    "// → [1, 2, 3, 4]"
   ]
  },
  {
   "cell_type": "markdown",
   "metadata": {},
   "source": [
    "## Objects - complex data structures"
   ]
  },
  {
   "cell_type": "markdown",
   "metadata": {},
   "source": [
    "Values of the type object are arbitrary collections of properties"
   ]
  },
  {
   "cell_type": "code",
   "execution_count": 23,
   "metadata": {
    "dotnet_interactive": {
     "language": "javascript"
    },
    "polyglot_notebook": {
     "kernelName": "javascript"
    },
    "vscode": {
     "languageId": "polyglot-notebook"
    }
   },
   "outputs": [
    {
     "data": {
      "text/plain": [
       "false"
      ]
     },
     "metadata": {},
     "output_type": "display_data"
    },
    {
     "data": {
      "text/plain": [
       "null"
      ]
     },
     "metadata": {},
     "output_type": "display_data"
    },
    {
     "data": {
      "text/plain": [
       "false"
      ]
     },
     "metadata": {},
     "output_type": "display_data"
    }
   ],
   "source": [
    "let day1 = {\n",
    "    squirrel: false,\n",
    "    events: [\"work\", \"touched tree\", \"pizza\", \"running\"]\n",
    "};\n",
    "console.log(day1.squirrel);\n",
    "// → false\n",
    "console.log(day1.wolf);\n",
    "// → undefined\n",
    "day1.wolf = false;\n",
    "console.log(day1.wolf);\n",
    "// → false"
   ]
  },
  {
   "cell_type": "markdown",
   "metadata": {},
   "source": [
    "- Properties whose names aren’t valid binding names or valid numbers must be quoted:"
   ]
  },
  {
   "cell_type": "code",
   "execution_count": 24,
   "metadata": {
    "dotnet_interactive": {
     "language": "javascript"
    },
    "polyglot_notebook": {
     "kernelName": "javascript"
    },
    "vscode": {
     "languageId": "polyglot-notebook"
    }
   },
   "outputs": [],
   "source": [
    "let descriptions = {\n",
    "    work: \"Went to work\",\n",
    "    \"touched tree\": \"Touched a tree\"\n",
    "  };"
   ]
  },
  {
   "cell_type": "markdown",
   "metadata": {},
   "source": [
    "Braces can be two meanings:\n",
    "- Statements\n",
    "  - functions\n",
    "  - loops\n",
    "  - blocks\n",
    "  - conditional flow\n",
    "- Objects"
   ]
  },
  {
   "cell_type": "markdown",
   "metadata": {},
   "source": [
    "delete will remove property"
   ]
  },
  {
   "cell_type": "code",
   "execution_count": 25,
   "metadata": {
    "dotnet_interactive": {
     "language": "javascript"
    },
    "polyglot_notebook": {
     "kernelName": "javascript"
    },
    "vscode": {
     "languageId": "polyglot-notebook"
    }
   },
   "outputs": [
    {
     "data": {
      "text/plain": [
       "1"
      ]
     },
     "metadata": {},
     "output_type": "display_data"
    },
    {
     "data": {
      "text/plain": [
       "null"
      ]
     },
     "metadata": {},
     "output_type": "display_data"
    },
    {
     "data": {
      "text/plain": [
       "false"
      ]
     },
     "metadata": {},
     "output_type": "display_data"
    },
    {
     "data": {
      "text/plain": [
       "true"
      ]
     },
     "metadata": {},
     "output_type": "display_data"
    }
   ],
   "source": [
    "let anObject = {left: 1, right: 2};\n",
    "console.log(anObject.left);\n",
    "// → 1\n",
    "delete anObject.left;\n",
    "console.log(anObject.left);\n",
    "// → undefined\n",
    "console.log(\"left\" in anObject);\n",
    "// → false\n",
    "console.log(\"right\" in anObject);\n",
    "// → true"
   ]
  },
  {
   "cell_type": "markdown",
   "metadata": {},
   "source": [
    "Keys"
   ]
  },
  {
   "cell_type": "code",
   "execution_count": 26,
   "metadata": {
    "dotnet_interactive": {
     "language": "javascript"
    },
    "polyglot_notebook": {
     "kernelName": "javascript"
    },
    "vscode": {
     "languageId": "polyglot-notebook"
    }
   },
   "outputs": [
    {
     "data": {
      "application/json": [
       "x",
       "y",
       "z"
      ]
     },
     "metadata": {},
     "output_type": "display_data"
    }
   ],
   "source": [
    "console.log(Object.keys({x: 0, y: 0, z: 2}));\n",
    "// → [\"x\", \"y\", \"z\"]"
   ]
  },
  {
   "cell_type": "markdown",
   "metadata": {},
   "source": [
    "Copy the objects keys in another math"
   ]
  },
  {
   "cell_type": "code",
   "execution_count": 27,
   "metadata": {
    "dotnet_interactive": {
     "language": "javascript"
    },
    "polyglot_notebook": {
     "kernelName": "javascript"
    },
    "vscode": {
     "languageId": "polyglot-notebook"
    }
   },
   "outputs": [
    {
     "data": {
      "application/json": {
       "a": 1,
       "b": 3,
       "c": 4
      }
     },
     "metadata": {},
     "output_type": "display_data"
    }
   ],
   "source": [
    "let objectA = {a: 1, b: 2};\n",
    "Object.assign(objectA, {b: 3, c: 4});\n",
    "console.log(objectA);\n",
    "// → {a: 1, b: 3, c: 4}"
   ]
  },
  {
   "cell_type": "markdown",
   "metadata": {},
   "source": []
  },
  {
   "cell_type": "code",
   "execution_count": 28,
   "metadata": {
    "dotnet_interactive": {
     "language": "javascript"
    },
    "polyglot_notebook": {
     "kernelName": "javascript"
    },
    "vscode": {
     "languageId": "polyglot-notebook"
    }
   },
   "outputs": [],
   "source": [
    "let journal = [\n",
    "    {events: [\"work\", \"touched tree\", \"pizza\",\n",
    "              \"running\", \"television\"],\n",
    "     squirrel: false},\n",
    "    {events: [\"work\", \"ice cream\", \"cauliflower\",\n",
    "              \"lasagna\", \"touched tree\", \"brushed teeth\"],\n",
    "     squirrel: false},\n",
    "    {events: [\"weekend\", \"cycling\", \"break\", \"peanuts\",\n",
    "              \"beer\"],\n",
    "     squirrel: true},\n",
    "    /* and so on... */\n",
    "  ];"
   ]
  },
  {
   "cell_type": "markdown",
   "metadata": {},
   "source": [
    "Objects work differently. You can change their properties, causing a single object value to have different content at different times."
   ]
  },
  {
   "cell_type": "code",
   "execution_count": 29,
   "metadata": {
    "dotnet_interactive": {
     "language": "javascript"
    },
    "polyglot_notebook": {
     "kernelName": "javascript"
    },
    "vscode": {
     "languageId": "polyglot-notebook"
    }
   },
   "outputs": [
    {
     "data": {
      "text/plain": [
       "true"
      ]
     },
     "metadata": {},
     "output_type": "display_data"
    },
    {
     "data": {
      "text/plain": [
       "false"
      ]
     },
     "metadata": {},
     "output_type": "display_data"
    },
    {
     "data": {
      "text/plain": [
       "15"
      ]
     },
     "metadata": {},
     "output_type": "display_data"
    },
    {
     "data": {
      "text/plain": [
       "10"
      ]
     },
     "metadata": {},
     "output_type": "display_data"
    }
   ],
   "source": [
    "let object1 = {value: 10};\n",
    "let object2 = object1;\n",
    "let object3 = {value: 10};\n",
    "\n",
    "console.log(object1 == object2);\n",
    "// → true\n",
    "console.log(object1 == object3);\n",
    "// → false\n",
    "\n",
    "object1.value = 15;\n",
    "console.log(object2.value);\n",
    "// → 15\n",
    "console.log(object3.value);\n",
    "// → 10"
   ]
  },
  {
   "cell_type": "markdown",
   "metadata": {},
   "source": [
    "You can't modified the binding objects\n",
    "\n",
    "But you can modify the variables inside of it"
   ]
  },
  {
   "cell_type": "code",
   "execution_count": 31,
   "metadata": {
    "dotnet_interactive": {
     "language": "javascript"
    },
    "polyglot_notebook": {
     "kernelName": "javascript"
    },
    "vscode": {
     "languageId": "polyglot-notebook"
    }
   },
   "outputs": [
    {
     "ename": "Error",
     "evalue": "Assignment to constant variable.",
     "output_type": "error",
     "traceback": [
      "Assignment to constant variable."
     ]
    }
   ],
   "source": [
    "const score = {visitors: 0, home: 0};\n",
    "// This is okay\n",
    "score.visitors = 1;\n",
    "\n",
    "// This isn't allowed\n",
    "score = {visitors: 1, home: 1};"
   ]
  },
  {
   "cell_type": "markdown",
   "metadata": {},
   "source": [
    "## Loop in Arrays is simpler with for"
   ]
  },
  {
   "cell_type": "markdown",
   "metadata": {},
   "source": [
    "You can us `for of` that iterate objects and also have for in...\n",
    "That iterate over indices"
   ]
  },
  {
   "cell_type": "code",
   "execution_count": 45,
   "metadata": {
    "dotnet_interactive": {
     "language": "javascript"
    },
    "polyglot_notebook": {
     "kernelName": "javascript"
    },
    "vscode": {
     "languageId": "polyglot-notebook"
    }
   },
   "outputs": [
    {
     "data": {
      "text/plain": [
       "5 events."
      ]
     },
     "metadata": {},
     "output_type": "display_data"
    },
    {
     "data": {
      "text/plain": [
       "6 events."
      ]
     },
     "metadata": {},
     "output_type": "display_data"
    },
    {
     "data": {
      "text/plain": [
       "5 events."
      ]
     },
     "metadata": {},
     "output_type": "display_data"
    },
    {
     "data": {
      "application/json": [
       "work",
       "touched tree",
       "pizza",
       "running",
       "television",
       "ice cream",
       "cauliflower",
       "lasagna",
       "brushed teeth",
       "weekend",
       "cycling",
       "break",
       "peanuts",
       "beer"
      ]
     },
     "metadata": {},
     "output_type": "display_data"
    }
   ],
   "source": [
    "let journal = [];\n",
    "\n",
    "function addEntry(events, squirrel) {\n",
    "  journal.push({events, squirrel});\n",
    "}\n",
    "\n",
    "addEntry([\"work\", \"touched tree\", \"pizza\", \"running\",\n",
    "          \"television\"], false);\n",
    "addEntry([\"work\", \"ice cream\", \"cauliflower\", \"lasagna\",\n",
    "          \"touched tree\", \"brushed teeth\"], false);\n",
    "addEntry([\"weekend\", \"cycling\", \"break\", \"peanuts\",\n",
    "          \"beer\"], true);\n",
    "\n",
    "for (let entry of journal) {\n",
    "    console.log(`${entry.events.length} events.`);\n",
    "}\n",
    "\n",
    "\n",
    "function journalEvents(journal) {\n",
    "    let events = [];\n",
    "    for (let entry of journal) {\n",
    "        for (let event of entry.events) {\n",
    "            if (!events.includes(event)) {\n",
    "                events.push(event);\n",
    "            }\n",
    "        }\n",
    "    }\n",
    "    return events;\n",
    "}\n",
    "\n",
    "console.log(journalEvents(journal));\n",
    "// → [\"carrot\", \"exercise\", \"weekend\", \"bread\", …]"
   ]
  },
  {
   "cell_type": "code",
   "execution_count": 39,
   "metadata": {
    "dotnet_interactive": {
     "language": "javascript"
    },
    "polyglot_notebook": {
     "kernelName": "javascript"
    },
    "vscode": {
     "languageId": "polyglot-notebook"
    }
   },
   "outputs": [
    {
     "data": {
      "text/plain": [
       "9"
      ]
     },
     "metadata": {},
     "output_type": "display_data"
    }
   ],
   "source": [
    "function max(...numbers) {\n",
    "    let result = -Infinity;\n",
    "    for (let number of numbers) {\n",
    "        if (number > result) result = number;\n",
    "    }\n",
    "    return result;\n",
    "}\n",
    "console.log(max(4, 1, 9, -2));\n",
    "  // → 9\n"
   ]
  },
  {
   "cell_type": "markdown",
   "metadata": {},
   "source": [
    "## Strings"
   ]
  },
  {
   "cell_type": "code",
   "execution_count": 48,
   "metadata": {
    "dotnet_interactive": {
     "language": "javascript"
    },
    "polyglot_notebook": {
     "kernelName": "javascript"
    },
    "vscode": {
     "languageId": "polyglot-notebook"
    }
   },
   "outputs": [
    {
     "data": {
      "text/plain": [
       "null"
      ]
     },
     "metadata": {},
     "output_type": "display_data"
    }
   ],
   "source": [
    "let kim = \"Kim\";\n",
    "kim.age = 88;\n",
    "console.log(kim.age);\n",
    "// → undefined"
   ]
  },
  {
   "cell_type": "markdown",
   "metadata": {},
   "source": [
    "Slices and indexOf"
   ]
  },
  {
   "cell_type": "code",
   "execution_count": 50,
   "metadata": {
    "dotnet_interactive": {
     "language": "javascript"
    },
    "polyglot_notebook": {
     "kernelName": "javascript"
    },
    "vscode": {
     "languageId": "polyglot-notebook"
    }
   },
   "outputs": [
    {
     "data": {
      "text/plain": [
       "nut"
      ]
     },
     "metadata": {},
     "output_type": "display_data"
    },
    {
     "data": {
      "text/plain": [
       "5"
      ]
     },
     "metadata": {},
     "output_type": "display_data"
    }
   ],
   "source": [
    "console.log(\"coconuts\".slice(4, 7));\n",
    "// → nut\n",
    "console.log(\"coconut\".indexOf(\"u\"));\n",
    "// → 5"
   ]
  },
  {
   "cell_type": "markdown",
   "metadata": {},
   "source": []
  },
  {
   "cell_type": "markdown",
   "metadata": {},
   "source": [
    "Split and join"
   ]
  },
  {
   "cell_type": "code",
   "execution_count": null,
   "metadata": {
    "dotnet_interactive": {
     "language": "csharp"
    },
    "polyglot_notebook": {
     "kernelName": "csharp"
    },
    "vscode": {
     "languageId": "polyglot-notebook"
    }
   },
   "outputs": [],
   "source": [
    "let sentence = \"Secretarybirds specialize in stomping\";\n",
    "let words = sentence.split(\" \");\n",
    "console.log(words);\n",
    "// → [\"Secretarybirds\", \"specialize\", \"in\", \"stomping\"]\n",
    "console.log(words.join(\". \"));\n",
    "// → Secretarybirds. specialize. in. stomping"
   ]
  },
  {
   "cell_type": "markdown",
   "metadata": {},
   "source": [
    "Other functions"
   ]
  },
  {
   "cell_type": "code",
   "execution_count": 51,
   "metadata": {
    "dotnet_interactive": {
     "language": "javascript"
    },
    "polyglot_notebook": {
     "kernelName": "javascript"
    },
    "vscode": {
     "languageId": "polyglot-notebook"
    }
   },
   "outputs": [
    {
     "ename": "Error",
     "evalue": "(1,5): error CS1002: ; expected\n(1,12): error CS1519: Invalid token '=' in class, record, struct, or interface member declaration\n(1,12): error CS1525: Invalid expression term '='\n(4,13): error CS1525: Invalid expression term 'string'",
     "output_type": "error",
     "traceback": [
      "(1,5): error CS1002: ; expected\n",
      "(1,12): error CS1519: Invalid token '=' in class, record, struct, or interface member declaration\n",
      "(1,12): error CS1525: Invalid expression term '='\n",
      "(4,13): error CS1525: Invalid expression term 'string'"
     ]
    }
   ],
   "source": [
    "let string = \"abc\";\n",
    "console.log(string.length);\n",
    "// → 3\n",
    "console.log(string[1]);\n",
    "// → b"
   ]
  },
  {
   "cell_type": "markdown",
   "metadata": {},
   "source": [
    "## Rest and Spread Operator"
   ]
  },
  {
   "cell_type": "code",
   "execution_count": 44,
   "metadata": {
    "dotnet_interactive": {
     "language": "javascript"
    },
    "polyglot_notebook": {
     "kernelName": "javascript"
    },
    "vscode": {
     "languageId": "polyglot-notebook"
    }
   },
   "outputs": [
    {
     "data": {
      "text/plain": [
       "7"
      ]
     },
     "metadata": {},
     "output_type": "display_data"
    }
   ],
   "source": [
    "let numbers = [5, 1, 7];\n",
    "console.log(Math.max(...numbers));\n",
    "// → 7"
   ]
  },
  {
   "cell_type": "code",
   "execution_count": 42,
   "metadata": {
    "dotnet_interactive": {
     "language": "javascript"
    },
    "polyglot_notebook": {
     "kernelName": "javascript"
    },
    "vscode": {
     "languageId": "polyglot-notebook"
    }
   },
   "outputs": [
    {
     "data": {
      "application/json": [
       "will",
       "never",
       "fully",
       "understand"
      ]
     },
     "metadata": {},
     "output_type": "display_data"
    }
   ],
   "source": [
    "let words = [\"never\", \"fully\"];\n",
    "console.log([\"will\", ...words, \"understand\"]);\n",
    "// → [\"will\", \"never\", \"fully\", \"understand\"]"
   ]
  },
  {
   "cell_type": "markdown",
   "metadata": {},
   "source": [
    "You can use spread in a object"
   ]
  },
  {
   "cell_type": "code",
   "execution_count": null,
   "metadata": {
    "dotnet_interactive": {
     "language": "csharp"
    },
    "polyglot_notebook": {
     "kernelName": "csharp"
    },
    "vscode": {
     "languageId": "polyglot-notebook"
    }
   },
   "outputs": [],
   "source": [
    "let coordinates = {x: 10, y: 0};\n",
    "console.log({...coordinates, y: 5, z: 1});\n",
    "// → {x: 10, y: 5, z: 1}"
   ]
  },
  {
   "cell_type": "markdown",
   "metadata": {},
   "source": [
    "## Destructuring"
   ]
  },
  {
   "cell_type": "markdown",
   "metadata": {},
   "source": [
    "Destructuring open the object..."
   ]
  },
  {
   "cell_type": "markdown",
   "metadata": {},
   "source": [
    "For example in the following function you need receive and access each object by index."
   ]
  },
  {
   "cell_type": "code",
   "execution_count": 53,
   "metadata": {
    "dotnet_interactive": {
     "language": "javascript"
    },
    "polyglot_notebook": {
     "kernelName": "javascript"
    },
    "vscode": {
     "languageId": "polyglot-notebook"
    }
   },
   "outputs": [],
   "source": [
    "function phi(table) {\n",
    "    return (table[3] * table[0] - table[2] * table[1]) /\n",
    "      Math.sqrt((table[2] + table[3]) *\n",
    "                (table[0] + table[1]) *\n",
    "                (table[1] + table[3]) *\n",
    "                (table[0] + table[2]));\n",
    "  }\n",
    "  "
   ]
  },
  {
   "cell_type": "markdown",
   "metadata": {},
   "source": [
    "But you can do that operation like the next function\n",
    "\n",
    "Because you already know the the position of functions.."
   ]
  },
  {
   "cell_type": "code",
   "execution_count": 55,
   "metadata": {
    "dotnet_interactive": {
     "language": "javascript"
    },
    "polyglot_notebook": {
     "kernelName": "javascript"
    },
    "vscode": {
     "languageId": "polyglot-notebook"
    }
   },
   "outputs": [],
   "source": [
    "function phi([n00, n01, n10, n11]) {\n",
    "    return (n11 * n00 - n10 * n01) /\n",
    "      Math.sqrt((n10 + n11) * (n00 + n01) *\n",
    "                (n01 + n11) * (n00 + n10));\n",
    "  }"
   ]
  },
  {
   "cell_type": "markdown",
   "metadata": {},
   "source": [
    "you also can open the variables inside of object\n",
    "\n",
    "* This also works for bindings created with let, var, or const"
   ]
  },
  {
   "cell_type": "code",
   "execution_count": 56,
   "metadata": {
    "dotnet_interactive": {
     "language": "javascript"
    },
    "polyglot_notebook": {
     "kernelName": "javascript"
    },
    "vscode": {
     "languageId": "polyglot-notebook"
    }
   },
   "outputs": [
    {
     "data": {
      "text/plain": [
       "Faraji"
      ]
     },
     "metadata": {},
     "output_type": "display_data"
    }
   ],
   "source": [
    "let {name} = {name: \"Faraji\", age: 23};\n",
    "console.log(name);\n",
    "\n",
    "// → Faraji"
   ]
  },
  {
   "cell_type": "markdown",
   "metadata": {},
   "source": [
    "* Note that if you try to destructure null or undefined, you get an error, much as you would if you directly try to access a property of those values."
   ]
  },
  {
   "cell_type": "markdown",
   "metadata": {},
   "source": [
    "## Optional Property Access"
   ]
  },
  {
   "cell_type": "code",
   "execution_count": 57,
   "metadata": {
    "dotnet_interactive": {
     "language": "javascript"
    },
    "polyglot_notebook": {
     "kernelName": "javascript"
    },
    "vscode": {
     "languageId": "polyglot-notebook"
    }
   },
   "outputs": [
    {
     "data": {
      "text/plain": [
       "Toronto"
      ]
     },
     "metadata": {},
     "output_type": "display_data"
    },
    {
     "data": {
      "text/plain": [
       "null"
      ]
     },
     "metadata": {},
     "output_type": "display_data"
    }
   ],
   "source": [
    "function city(object) {\n",
    "    return object.address?.city;\n",
    "}\n",
    "console.log(city({address: {city: \"Toronto\"}}));\n",
    "  // → Toronto\n",
    "console.log(city({name: \"Vera\"}));\n",
    "  // → undefined"
   ]
  },
  {
   "cell_type": "markdown",
   "metadata": {},
   "source": [
    "The expression a?.b means the same a.b when a isn’t null or undefined. When it is, it evaluates to undefined."
   ]
  },
  {
   "cell_type": "markdown",
   "metadata": {},
   "source": [
    "* A similar notation can be used with square bracket access, and even with function calls, by putting ?. in front of the parentheses or brackets"
   ]
  },
  {
   "cell_type": "code",
   "execution_count": 61,
   "metadata": {
    "dotnet_interactive": {
     "language": "javascript"
    },
    "polyglot_notebook": {
     "kernelName": "javascript"
    },
    "vscode": {
     "languageId": "polyglot-notebook"
    }
   },
   "outputs": [
    {
     "data": {
      "text/plain": [
       "null"
      ]
     },
     "metadata": {},
     "output_type": "display_data"
    },
    {
     "data": {
      "text/plain": [
       "null"
      ]
     },
     "metadata": {},
     "output_type": "display_data"
    }
   ],
   "source": [
    "console.log(\"string\".notAMethod?.());\n",
    "// → undefined\n",
    "console.log({}.arrayProp?.[0]);\n",
    "// → undefined"
   ]
  },
  {
   "cell_type": "markdown",
   "metadata": {},
   "source": [
    "## Exercise"
   ]
  },
  {
   "cell_type": "markdown",
   "metadata": {},
   "source": [
    "* Create a range function\n",
    "* Create a sum Function"
   ]
  },
  {
   "cell_type": "code",
   "execution_count": 10,
   "metadata": {
    "dotnet_interactive": {
     "language": "javascript"
    },
    "polyglot_notebook": {
     "kernelName": "javascript"
    },
    "vscode": {
     "languageId": "polyglot-notebook"
    }
   },
   "outputs": [
    {
     "data": {
      "application/json": [
       1,
       2,
       3,
       4,
       5,
       6,
       7,
       8,
       9,
       10
      ]
     },
     "metadata": {},
     "output_type": "display_data"
    },
    {
     "data": {
      "text/plain": [
       "55"
      ]
     },
     "metadata": {},
     "output_type": "display_data"
    }
   ],
   "source": [
    "function createListByRange(start, end){\n",
    "    number_list = [start]\n",
    "    aux = start;\n",
    "\n",
    "    while (aux != end){\n",
    "        aux += 1\n",
    "        number_list.push(aux)\n",
    "    }\n",
    "    return number_list\n",
    "\n",
    "}\n",
    "\n",
    "function sum_range(number_list){\n",
    "    sum = 0;\n",
    "    for (n of number_list) {\n",
    "        sum += n;\n",
    "    }\n",
    "    return sum\n",
    "}\n",
    "\n",
    "nl = createListByRange(1,10)\n",
    "sum_ = sum_range(nl)\n",
    "\n",
    "console.log(nl)\n",
    "console.log(sum_)"
   ]
  },
  {
   "cell_type": "code",
   "execution_count": 64,
   "metadata": {
    "dotnet_interactive": {
     "language": "javascript"
    },
    "polyglot_notebook": {
     "kernelName": "javascript"
    },
    "vscode": {
     "languageId": "polyglot-notebook"
    }
   },
   "outputs": [
    {
     "data": {
      "application/json": [
       "C",
       "B",
       "A"
      ]
     },
     "metadata": {},
     "output_type": "display_data"
    },
    {
     "data": {
      "application/json": [
       "C",
       "B",
       "A"
      ]
     },
     "metadata": {},
     "output_type": "display_data"
    },
    {
     "data": {
      "application/json": [
       "C",
       "A",
       "B"
      ]
     },
     "metadata": {},
     "output_type": "display_data"
    }
   ],
   "source": [
    "let myArray = [\"A\", \"B\", \"C\"];\n",
    "\n",
    "\n",
    "const reverseArray = function(array){\n",
    "    new_array = []\n",
    "    // TODO: put exception verification\n",
    "    n = array.length - 1 // 3\n",
    "    \n",
    "    new_array.push(array[n])\n",
    "\n",
    "    while (n != 0){\n",
    "        n -= 1\n",
    "        new_array.push(array[n])\n",
    "    }\n",
    "    return new_array\n",
    "\n",
    "}\n",
    "\n",
    "console.log(reverseArray(myArray))\n",
    "\n",
    "\n",
    "\n",
    "const reverseArrayDoWhile = function(array){\n",
    "    new_array = []\n",
    "    // TODO: put exception verification\n",
    "    n = array.length - 1 // 2\n",
    "    \n",
    "    do{\n",
    "        new_array.push(array[n])\n",
    "        n -= 1\n",
    "    } while (n >= 0)\n",
    "\n",
    "    return new_array\n",
    "\n",
    "}\n",
    "\n",
    "console.log(reverseArrayDoWhile(myArray))\n",
    "\n",
    "\n",
    "const reverseArrayInPlace = function(array){\n",
    "    // array.length - 1  = 2\n",
    "    n = array.length\n",
    "    for (let i = 0; i < n - 1 ; i+=1){\n",
    "\n",
    "        aux = array.shift()\n",
    "        \n",
    "        array.push(aux)\n",
    "    }\n",
    "\n",
    "    return array\n",
    "\n",
    "}\n",
    "\n",
    "\n",
    "\n",
    "console.log(reverseArrayInPlace(myArray))"
   ]
  }
 ],
 "metadata": {
  "language_info": {
   "name": "python"
  }
 },
 "nbformat": 4,
 "nbformat_minor": 2
}
