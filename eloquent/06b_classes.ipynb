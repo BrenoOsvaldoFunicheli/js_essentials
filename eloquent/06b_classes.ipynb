{
 "cells": [
  {
   "cell_type": "markdown",
   "metadata": {},
   "source": [
    "## Prototype"
   ]
  },
  {
   "cell_type": "code",
   "execution_count": null,
   "metadata": {
    "vscode": {
     "languageId": "javascript"
    }
   },
   "outputs": [],
   "source": [
    "function makeRabbit(type) {\n",
    "  let rabbit = Object.create(protoRabbit);\n",
    "  rabbit.type = type;\n",
    "  return rabbit;\n",
    "}"
   ]
  },
  {
   "cell_type": "code",
   "execution_count": null,
   "metadata": {},
   "outputs": [],
   "source": [
    "class Rabbit {\n",
    "  constructor(type) {\n",
    "    this.type = type;\n",
    "  }\n",
    "  speak(line) {\n",
    "    console.log(`The ${this.type} rabbit says '${line}'`);\n",
    "  }\n",
    "}"
   ]
  }
 ],
 "metadata": {
  "language_info": {
   "name": "python"
  }
 },
 "nbformat": 4,
 "nbformat_minor": 2
}
