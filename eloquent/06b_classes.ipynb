{
 "cells": [
  {
   "cell_type": "markdown",
   "metadata": {},
   "source": [
    "# Object"
   ]
  },
  {
   "cell_type": "markdown",
   "metadata": {},
   "source": [
    "* Prototype\n",
    "* Class\n",
    "* Private method\n",
    "* `.this` in classes (refers to the instance value and not the class value)\n",
    "* accessories (getters, setters and static)\n",
    "* Ready to Use classes (Data Structures)\n",
    "* Inheritance (extends)\n"
   ]
  },
  {
   "cell_type": "markdown",
   "metadata": {},
   "source": [
    "## Prototype"
   ]
  },
  {
   "cell_type": "code",
   "execution_count": 4,
   "metadata": {
    "dotnet_interactive": {
     "language": "javascript"
    },
    "polyglot_notebook": {
     "kernelName": "javascript"
    },
    "vscode": {
     "languageId": "polyglot-notebook"
    }
   },
   "outputs": [
    {
     "data": {
      "text/plain": [
       "true"
      ]
     },
     "metadata": {},
     "output_type": "display_data"
    },
    {
     "data": {
      "application/json": ""
     },
     "metadata": {},
     "output_type": "display_data"
    }
   ],
   "source": [
    "console.log(Object.getPrototypeOf({}) == Object.prototype);\n",
    "// → true\n",
    "console.log(Object.getPrototypeOf(Object.prototype));\n",
    "// → null"
   ]
  },
  {
   "cell_type": "markdown",
   "metadata": {},
   "source": [
    "In JS the OS programming works like prototype of object.\n",
    "\n",
    "This is, when you want to create object like other you copy this object"
   ]
  },
  {
   "cell_type": "code",
   "execution_count": 1,
   "metadata": {
    "dotnet_interactive": {
     "language": "javascript"
    },
    "polyglot_notebook": {
     "kernelName": "javascript"
    },
    "vscode": {
     "languageId": "polyglot-notebook"
    }
   },
   "outputs": [
    {
     "data": {
      "text/plain": [
       "The black rabbit says 'I am fear and darkness'"
      ]
     },
     "metadata": {},
     "output_type": "display_data"
    }
   ],
   "source": [
    "let protoRabbit = {\n",
    "    speak(line) {\n",
    "        console.log(`The ${this.type} rabbit says '${line}'`);\n",
    "    }\n",
    "};\n",
    "\n",
    "let blackRabbit = Object.create(protoRabbit);\n",
    "\n",
    "blackRabbit.type = \"black\";\n",
    "blackRabbit.speak(\"I am fear and darkness\");\n",
    "// → The black rabbit says 'I am fear and darkness'"
   ]
  },
  {
   "cell_type": "markdown",
   "metadata": {},
   "source": [
    "## Classes"
   ]
  },
  {
   "cell_type": "markdown",
   "metadata": {},
   "source": [
    "You can make instances like a specific object using `constructor function` like the following code:"
   ]
  },
  {
   "cell_type": "code",
   "execution_count": 2,
   "metadata": {
    "dotnet_interactive": {
     "language": "javascript"
    },
    "polyglot_notebook": {
     "kernelName": "javascript"
    },
    "vscode": {
     "languageId": "polyglot-notebook"
    }
   },
   "outputs": [],
   "source": [
    "function makeRabbit(type) {\n",
    "    let rabbit = Object.create(protoRabbit);\n",
    "    rabbit.type = type;\n",
    "    return rabbit;\n",
    "  }"
   ]
  },
  {
   "cell_type": "markdown",
   "metadata": {},
   "source": [
    "However, JavaScript’s prototype system can be interpreted as a somewhat free-form take on abstract data types or classes. A class defines the shape of a type of object\n",
    "\n",
    "And ES6 has a `class notation` to help the instance creation from the prototype"
   ]
  },
  {
   "cell_type": "code",
   "execution_count": 5,
   "metadata": {
    "dotnet_interactive": {
     "language": "javascript"
    },
    "polyglot_notebook": {
     "kernelName": "javascript"
    },
    "vscode": {
     "languageId": "polyglot-notebook"
    }
   },
   "outputs": [],
   "source": [
    "class Rabbit {\n",
    "  constructor(type) {\n",
    "    this.type = type;\n",
    "  }\n",
    "  speak(line) {\n",
    "    console.log(`The ${this.type} rabbit says '${line}'`);\n",
    "  }\n",
    "}\n",
    "\n",
    "let killerRabbit = new Rabbit(\"killer\")\n",
    "\n",
    "killerRabbit"
   ]
  },
  {
   "cell_type": "markdown",
   "metadata": {},
   "source": [
    "`Class notation` creates the constructor that define model to object to create instance you need to call with `new` operator"
   ]
  },
  {
   "cell_type": "markdown",
   "metadata": {},
   "source": [
    "The only way to create classes before the ES6 was handling prototype in the functions like the following code:"
   ]
  },
  {
   "cell_type": "markdown",
   "metadata": {},
   "source": [
    "* When a class does not declare a constructor, it will automatically get an empty one."
   ]
  },
  {
   "cell_type": "code",
   "execution_count": 6,
   "metadata": {
    "dotnet_interactive": {
     "language": "javascript"
    },
    "polyglot_notebook": {
     "kernelName": "javascript"
    },
    "vscode": {
     "languageId": "polyglot-notebook"
    }
   },
   "outputs": [],
   "source": [
    "function ArchaicRabbit(type) {\n",
    "    this.type = type;\n",
    "}\n",
    "\n",
    "ArchaicRabbit.prototype.speak = function(line) {\n",
    "    console.log(`The ${this.type} rabbit says '${line}'`);\n",
    "};\n",
    "\n",
    "let oldSchoolRabbit = new ArchaicRabbit(\"old school\");"
   ]
  },
  {
   "cell_type": "markdown",
   "metadata": {},
   "source": [
    "## Private Properties"
   ]
  },
  {
   "cell_type": "markdown",
   "metadata": {},
   "source": [
    "private method can be called out of the Class"
   ]
  },
  {
   "cell_type": "code",
   "execution_count": 14,
   "metadata": {
    "dotnet_interactive": {
     "language": "javascript"
    },
    "polyglot_notebook": {
     "kernelName": "javascript"
    },
    "vscode": {
     "languageId": "polyglot-notebook"
    }
   },
   "outputs": [
    {
     "data": {
      "text/plain": [
       "never"
      ]
     },
     "metadata": {},
     "output_type": "display_data"
    },
    {
     "ename": "Error",
     "evalue": "so.getSecret is not a function",
     "output_type": "error",
     "traceback": [
      "so.getSecret is not a function"
     ]
    }
   ],
   "source": [
    "class SecretiveObject {\n",
    "    #getSecret() {\n",
    "        return \"I ate all the plums\";\n",
    "    }\n",
    "\n",
    "    interrogate() {\n",
    "        let shallISayIt = this.#getSecret();\n",
    "        return \"never\";\n",
    "    }\n",
    "    \n",
    "}\n",
    "\n",
    "so = new SecretiveObject()\n",
    "\n",
    "\n",
    "console.log(so.interrogate())\n",
    "console.log(so.getSecret())\n"
   ]
  },
  {
   "cell_type": "markdown",
   "metadata": {},
   "source": [
    "## Maps (Data Structures)"
   ]
  },
  {
   "cell_type": "markdown",
   "metadata": {},
   "source": [
    "* To use the object like a map you need to `extends` from null to remove functions like toString"
   ]
  },
  {
   "cell_type": "code",
   "execution_count": 18,
   "metadata": {
    "dotnet_interactive": {
     "language": "javascript"
    },
    "polyglot_notebook": {
     "kernelName": "javascript"
    },
    "vscode": {
     "languageId": "polyglot-notebook"
    }
   },
   "outputs": [
    {
     "data": {
      "text/plain": [
       "Júlia is 62"
      ]
     },
     "metadata": {},
     "output_type": "display_data"
    },
    {
     "data": {
      "text/plain": [
       "Is Jack's age known?"
      ]
     },
     "metadata": {},
     "output_type": "display_data"
    },
    {
     "data": {
      "text/plain": [
       "false"
      ]
     },
     "metadata": {},
     "output_type": "display_data"
    },
    {
     "data": {
      "text/plain": [
       "Is toString's age known?"
      ]
     },
     "metadata": {},
     "output_type": "display_data"
    },
    {
     "data": {
      "text/plain": [
       "true"
      ]
     },
     "metadata": {},
     "output_type": "display_data"
    }
   ],
   "source": [
    "let ages = {\n",
    "    Boris: 39,\n",
    "    Liang: 22,\n",
    "    Júlia: 62\n",
    "};\n",
    "\n",
    "console.log(`Júlia is ${ages[\"Júlia\"]}`);\n",
    "// → Júlia is 62\n",
    "console.log(\"Is Jack's age known?\", \"Jack\" in ages);\n",
    "// → Is Jack's age known? false\n",
    "console.log(\"Is toString's age known?\", \"toString\" in ages);\n",
    "// → Is toString's age known? true"
   ]
  },
  {
   "cell_type": "code",
   "execution_count": 19,
   "metadata": {
    "dotnet_interactive": {
     "language": "javascript"
    },
    "polyglot_notebook": {
     "kernelName": "javascript"
    },
    "vscode": {
     "languageId": "polyglot-notebook"
    }
   },
   "outputs": [
    {
     "data": {
      "text/plain": [
       "false"
      ]
     },
     "metadata": {},
     "output_type": "display_data"
    }
   ],
   "source": [
    "console.log(\"toString\" in Object.create(null));\n",
    "// → false"
   ]
  },
  {
   "cell_type": "markdown",
   "metadata": {},
   "source": [
    "The other way to do this is with `Map`"
   ]
  },
  {
   "cell_type": "markdown",
   "metadata": {},
   "source": [
    "## Getters, Setters and Static"
   ]
  },
  {
   "cell_type": "markdown",
   "metadata": {},
   "source": [
    "You can hide the operations behind of the properties, this operations that hide are called `accessories`, they are:\n",
    "\n",
    "- `getters`: make operation over the return object\n",
    "- `setters`: make operation before set value on object\n",
    "- `static`: Allow the users use function inside of the class without instance \n"
   ]
  },
  {
   "cell_type": "markdown",
   "metadata": {},
   "source": [
    "#### Getters"
   ]
  },
  {
   "cell_type": "code",
   "execution_count": 21,
   "metadata": {
    "dotnet_interactive": {
     "language": "javascript"
    },
    "polyglot_notebook": {
     "kernelName": "javascript"
    },
    "vscode": {
     "languageId": "polyglot-notebook"
    }
   },
   "outputs": [
    {
     "data": {
      "text/plain": [
       "53"
      ]
     },
     "metadata": {},
     "output_type": "display_data"
    },
    {
     "data": {
      "text/plain": [
       "90"
      ]
     },
     "metadata": {},
     "output_type": "display_data"
    }
   ],
   "source": [
    "let varyingSize = {\n",
    "    get size() {\n",
    "      return Math.floor(Math.random() * 100);\n",
    "    }\n",
    "};\n",
    "console.log(varyingSize.size);\n",
    "// → 73\n",
    "console.log(varyingSize.size);\n",
    "// → 49"
   ]
  },
  {
   "cell_type": "markdown",
   "metadata": {},
   "source": [
    "#### Setters and Statics"
   ]
  },
  {
   "cell_type": "code",
   "execution_count": 24,
   "metadata": {
    "dotnet_interactive": {
     "language": "javascript"
    },
    "polyglot_notebook": {
     "kernelName": "javascript"
    },
    "vscode": {
     "languageId": "polyglot-notebook"
    }
   },
   "outputs": [
    {
     "data": {
      "text/plain": [
       "71.6"
      ]
     },
     "metadata": {},
     "output_type": "display_data"
    },
    {
     "data": {
      "text/plain": [
       "30"
      ]
     },
     "metadata": {},
     "output_type": "display_data"
    }
   ],
   "source": [
    "class Temperature {\n",
    "    constructor(celsius) {\n",
    "        this.celsius = celsius;\n",
    "    }\n",
    "    get fahrenheit() {\n",
    "        return this.celsius * 1.8 + 32;\n",
    "    }\n",
    "    set fahrenheit(value) {\n",
    "        this.celsius = (value - 32) / 1.8;\n",
    "    }\n",
    "\n",
    "    static fromFahrenheit(value) {\n",
    "        return new Temperature((value - 32) / 1.8);\n",
    "    }\n",
    "}\n",
    "\n",
    "let temp = new Temperature(22);\n",
    "console.log(temp.fahrenheit);\n",
    "// → 71.6\n",
    "temp.fahrenheit = 86;\n",
    "console.log(temp.celsius);\n",
    "// → 30"
   ]
  },
  {
   "cell_type": "markdown",
   "metadata": {},
   "source": [
    "## Inheritance"
   ]
  },
  {
   "cell_type": "markdown",
   "metadata": {},
   "source": [
    "That are the way to get the declared class and extends the functions.\n",
    "\n",
    "\n",
    "You can check if an object is derivated from any class using the `instance_of` operation."
   ]
  },
  {
   "cell_type": "code",
   "execution_count": 26,
   "metadata": {
    "dotnet_interactive": {
     "language": "javascript"
    },
    "polyglot_notebook": {
     "kernelName": "javascript"
    },
    "vscode": {
     "languageId": "polyglot-notebook"
    }
   },
   "outputs": [
    {
     "data": {
      "text/plain": [
       "3"
      ]
     },
     "metadata": {},
     "output_type": "display_data"
    },
    {
     "data": {
      "text/plain": [
       "true"
      ]
     },
     "metadata": {},
     "output_type": "display_data"
    },
    {
     "data": {
      "text/plain": [
       "true"
      ]
     },
     "metadata": {},
     "output_type": "display_data"
    },
    {
     "data": {
      "text/plain": [
       "false"
      ]
     },
     "metadata": {},
     "output_type": "display_data"
    },
    {
     "data": {
      "text/plain": [
       "true"
      ]
     },
     "metadata": {},
     "output_type": "display_data"
    }
   ],
   "source": [
    "class List {\n",
    "    constructor(value, rest) {\n",
    "    this.value = value;\n",
    "    this.rest = rest;\n",
    "}\n",
    "\n",
    "get length() {\n",
    "    return 1 + (this.rest ? this.rest.length : 0);\n",
    "}\n",
    "\n",
    "static fromArray(array) {\n",
    "    let result = null;\n",
    "    for (let i = array.length - 1; i >= 0; i--) {\n",
    "    result = new this(array[i], result);\n",
    "    }\n",
    "    return result;\n",
    "}\n",
    "}\n",
    "\n",
    "class LengthList extends List {\n",
    "    #length;\n",
    "\n",
    "    constructor(value, rest) {\n",
    "        super(value, rest);\n",
    "        this.#length = super.length;\n",
    "    }\n",
    "\n",
    "    get length() {\n",
    "        return this.#length;\n",
    "    }\n",
    "}\n",
    "\n",
    "console.log(LengthList.fromArray([1, 2, 3]).length);\n",
    "\n",
    "\n",
    "console.log(new LengthList(1, null) instanceof LengthList);\n",
    "// → true\n",
    "console.log(new LengthList(2, null) instanceof List);\n",
    "// → true\n",
    "console.log(new List(3, null) instanceof LengthList);\n",
    "// → false\n",
    "console.log([1] instanceof Array);\n",
    "// → true"
   ]
  }
 ],
 "metadata": {
  "language_info": {
   "name": "python"
  }
 },
 "nbformat": 4,
 "nbformat_minor": 2
}
