{
 "cells": [
  {
   "cell_type": "markdown",
   "metadata": {},
   "source": [
    "## Prototype"
   ]
  },
  {
   "cell_type": "code",
   "execution_count": 4,
   "metadata": {
    "dotnet_interactive": {
     "language": "javascript"
    },
    "polyglot_notebook": {
     "kernelName": "javascript"
    },
    "vscode": {
     "languageId": "polyglot-notebook"
    }
   },
   "outputs": [
    {
     "data": {
      "text/plain": [
       "true"
      ]
     },
     "metadata": {},
     "output_type": "display_data"
    },
    {
     "data": {
      "application/json": ""
     },
     "metadata": {},
     "output_type": "display_data"
    }
   ],
   "source": [
    "console.log(Object.getPrototypeOf({}) == Object.prototype);\n",
    "// → true\n",
    "console.log(Object.getPrototypeOf(Object.prototype));\n",
    "// → null"
   ]
  },
  {
   "cell_type": "markdown",
   "metadata": {},
   "source": [
    "In JS the OS programming works like prototype of object.\n",
    "\n",
    "This is, when you want to create object like other you copy this object"
   ]
  },
  {
   "cell_type": "code",
   "execution_count": 1,
   "metadata": {
    "dotnet_interactive": {
     "language": "javascript"
    },
    "polyglot_notebook": {
     "kernelName": "javascript"
    },
    "vscode": {
     "languageId": "polyglot-notebook"
    }
   },
   "outputs": [
    {
     "data": {
      "text/plain": [
       "The black rabbit says 'I am fear and darkness'"
      ]
     },
     "metadata": {},
     "output_type": "display_data"
    }
   ],
   "source": [
    "let protoRabbit = {\n",
    "    speak(line) {\n",
    "        console.log(`The ${this.type} rabbit says '${line}'`);\n",
    "    }\n",
    "};\n",
    "\n",
    "let blackRabbit = Object.create(protoRabbit);\n",
    "\n",
    "blackRabbit.type = \"black\";\n",
    "blackRabbit.speak(\"I am fear and darkness\");\n",
    "// → The black rabbit says 'I am fear and darkness'"
   ]
  },
  {
   "cell_type": "markdown",
   "metadata": {},
   "source": [
    "## Classes"
   ]
  },
  {
   "cell_type": "markdown",
   "metadata": {},
   "source": [
    "You can make instances like a specific object using `constructor function` like the following code:"
   ]
  },
  {
   "cell_type": "code",
   "execution_count": 2,
   "metadata": {
    "dotnet_interactive": {
     "language": "javascript"
    },
    "polyglot_notebook": {
     "kernelName": "javascript"
    },
    "vscode": {
     "languageId": "polyglot-notebook"
    }
   },
   "outputs": [],
   "source": [
    "function makeRabbit(type) {\n",
    "    let rabbit = Object.create(protoRabbit);\n",
    "    rabbit.type = type;\n",
    "    return rabbit;\n",
    "  }"
   ]
  },
  {
   "cell_type": "markdown",
   "metadata": {},
   "source": [
    "However, JavaScript’s prototype system can be interpreted as a somewhat free-form take on abstract data types or classes. A class defines the shape of a type of object\n",
    "\n",
    "And ES6 has a `class notation` to help the instance creation from the prototype"
   ]
  },
  {
   "cell_type": "code",
   "execution_count": 5,
   "metadata": {
    "dotnet_interactive": {
     "language": "javascript"
    },
    "polyglot_notebook": {
     "kernelName": "javascript"
    },
    "vscode": {
     "languageId": "polyglot-notebook"
    }
   },
   "outputs": [],
   "source": [
    "class Rabbit {\n",
    "  constructor(type) {\n",
    "    this.type = type;\n",
    "  }\n",
    "  speak(line) {\n",
    "    console.log(`The ${this.type} rabbit says '${line}'`);\n",
    "  }\n",
    "}\n",
    "\n",
    "let killerRabbit = new Rabbit(\"killer\")\n",
    "\n",
    "killerRabbit"
   ]
  },
  {
   "cell_type": "markdown",
   "metadata": {},
   "source": [
    "`Class notation` creates the constructor that define model to object to create instance you need to call with `new` operator"
   ]
  },
  {
   "cell_type": "markdown",
   "metadata": {},
   "source": [
    "The only way to create classes before the ES6 was handling prototype in the functions like the following code:"
   ]
  },
  {
   "cell_type": "markdown",
   "metadata": {},
   "source": [
    "* When a class does not declare a constructor, it will automatically get an empty one."
   ]
  },
  {
   "cell_type": "code",
   "execution_count": 6,
   "metadata": {
    "dotnet_interactive": {
     "language": "javascript"
    },
    "polyglot_notebook": {
     "kernelName": "javascript"
    },
    "vscode": {
     "languageId": "polyglot-notebook"
    }
   },
   "outputs": [],
   "source": [
    "function ArchaicRabbit(type) {\n",
    "    this.type = type;\n",
    "}\n",
    "\n",
    "ArchaicRabbit.prototype.speak = function(line) {\n",
    "    console.log(`The ${this.type} rabbit says '${line}'`);\n",
    "};\n",
    "\n",
    "let oldSchoolRabbit = new ArchaicRabbit(\"old school\");"
   ]
  },
  {
   "cell_type": "markdown",
   "metadata": {},
   "source": [
    "## Private Properties"
   ]
  },
  {
   "cell_type": "markdown",
   "metadata": {},
   "source": [
    "private method can be called out of the Class"
   ]
  },
  {
   "cell_type": "code",
   "execution_count": 14,
   "metadata": {
    "dotnet_interactive": {
     "language": "javascript"
    },
    "polyglot_notebook": {
     "kernelName": "javascript"
    },
    "vscode": {
     "languageId": "polyglot-notebook"
    }
   },
   "outputs": [
    {
     "data": {
      "text/plain": [
       "never"
      ]
     },
     "metadata": {},
     "output_type": "display_data"
    },
    {
     "ename": "Error",
     "evalue": "so.getSecret is not a function",
     "output_type": "error",
     "traceback": [
      "so.getSecret is not a function"
     ]
    }
   ],
   "source": [
    "class SecretiveObject {\n",
    "    #getSecret() {\n",
    "        return \"I ate all the plums\";\n",
    "    }\n",
    "\n",
    "    interrogate() {\n",
    "        let shallISayIt = this.#getSecret();\n",
    "        return \"never\";\n",
    "    }\n",
    "    \n",
    "}\n",
    "\n",
    "so = new SecretiveObject()\n",
    "\n",
    "\n",
    "console.log(so.interrogate())\n",
    "console.log(so.getSecret())\n"
   ]
  },
  {
   "cell_type": "markdown",
   "metadata": {},
   "source": [
    "## Maps (Data Structures)"
   ]
  },
  {
   "cell_type": "markdown",
   "metadata": {},
   "source": [
    "* To use the object like a map you need to `extends` from null to remove functions like toString"
   ]
  },
  {
   "cell_type": "code",
   "execution_count": 18,
   "metadata": {
    "dotnet_interactive": {
     "language": "javascript"
    },
    "polyglot_notebook": {
     "kernelName": "javascript"
    },
    "vscode": {
     "languageId": "polyglot-notebook"
    }
   },
   "outputs": [
    {
     "data": {
      "text/plain": [
       "Júlia is 62"
      ]
     },
     "metadata": {},
     "output_type": "display_data"
    },
    {
     "data": {
      "text/plain": [
       "Is Jack's age known?"
      ]
     },
     "metadata": {},
     "output_type": "display_data"
    },
    {
     "data": {
      "text/plain": [
       "false"
      ]
     },
     "metadata": {},
     "output_type": "display_data"
    },
    {
     "data": {
      "text/plain": [
       "Is toString's age known?"
      ]
     },
     "metadata": {},
     "output_type": "display_data"
    },
    {
     "data": {
      "text/plain": [
       "true"
      ]
     },
     "metadata": {},
     "output_type": "display_data"
    }
   ],
   "source": [
    "let ages = {\n",
    "    Boris: 39,\n",
    "    Liang: 22,\n",
    "    Júlia: 62\n",
    "};\n",
    "\n",
    "console.log(`Júlia is ${ages[\"Júlia\"]}`);\n",
    "// → Júlia is 62\n",
    "console.log(\"Is Jack's age known?\", \"Jack\" in ages);\n",
    "// → Is Jack's age known? false\n",
    "console.log(\"Is toString's age known?\", \"toString\" in ages);\n",
    "// → Is toString's age known? true"
   ]
  },
  {
   "cell_type": "code",
   "execution_count": 19,
   "metadata": {
    "dotnet_interactive": {
     "language": "javascript"
    },
    "polyglot_notebook": {
     "kernelName": "javascript"
    },
    "vscode": {
     "languageId": "polyglot-notebook"
    }
   },
   "outputs": [
    {
     "data": {
      "text/plain": [
       "false"
      ]
     },
     "metadata": {},
     "output_type": "display_data"
    }
   ],
   "source": [
    "console.log(\"toString\" in Object.create(null));\n",
    "// → false"
   ]
  },
  {
   "cell_type": "markdown",
   "metadata": {},
   "source": [
    "The other way to do this is with `Map`"
   ]
  },
  {
   "cell_type": "code",
   "execution_count": null,
   "metadata": {
    "vscode": {
     "languageId": "polyglot-notebook"
    }
   },
   "outputs": [],
   "source": []
  }
 ],
 "metadata": {
  "language_info": {
   "name": "python"
  }
 },
 "nbformat": 4,
 "nbformat_minor": 2
}
