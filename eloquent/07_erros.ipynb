{
 "cells": [
  {
   "cell_type": "markdown",
   "metadata": {},
   "source": [
    "## Strict Mode"
   ]
  },
  {
   "cell_type": "markdown",
   "metadata": {
    "vscode": {
     "languageId": "plaintext"
    }
   },
   "source": [
    "The stric mode can be use at the top of a file or a function body."
   ]
  },
  {
   "cell_type": "markdown",
   "metadata": {},
   "source": [
    "- Error when variable wasn't declared."
   ]
  },
  {
   "cell_type": "code",
   "execution_count": 1,
   "metadata": {
    "dotnet_interactive": {
     "language": "javascript"
    },
    "polyglot_notebook": {
     "kernelName": "javascript"
    },
    "vscode": {
     "languageId": "polyglot-notebook"
    }
   },
   "outputs": [
    {
     "ename": "Error",
     "evalue": "counter is not defined",
     "output_type": "error",
     "traceback": [
      "counter is not defined"
     ]
    }
   ],
   "source": [
    "function canYouSpotTheProblem() {\n",
    "  \"use strict\";\n",
    "  for (counter = 0; counter < 10; counter++) {\n",
    "    console.log(\"Happy happy\");\n",
    "  }\n",
    "}\n",
    "\n",
    "canYouSpotTheProblem();\n",
    "// → ReferenceError: counter is not defined"
   ]
  },
  {
   "cell_type": "markdown",
   "metadata": {},
   "source": [
    "* When you defined function Prototype without the constructor \n",
    "\n",
    "This behave put the value on the global scope"
   ]
  },
  {
   "cell_type": "code",
   "execution_count": 3,
   "metadata": {
    "dotnet_interactive": {
     "language": "javascript"
    },
    "polyglot_notebook": {
     "kernelName": "javascript"
    },
    "vscode": {
     "languageId": "polyglot-notebook"
    }
   },
   "outputs": [
    {
     "data": {
      "text/plain": [
       "Ferdinand"
      ]
     },
     "metadata": {},
     "output_type": "display_data"
    }
   ],
   "source": [
    "function Person(name) { this.name = name; }\n",
    "let ferdinand = Person(\"Ferdinand\"); // oops\n",
    "console.log(name);\n",
    "// → Ferdinand"
   ]
  },
  {
   "cell_type": "code",
   "execution_count": 4,
   "metadata": {
    "dotnet_interactive": {
     "language": "javascript"
    },
    "polyglot_notebook": {
     "kernelName": "javascript"
    },
    "vscode": {
     "languageId": "polyglot-notebook"
    }
   },
   "outputs": [
    {
     "ename": "Error",
     "evalue": "Cannot set properties of undefined (setting 'name')",
     "output_type": "error",
     "traceback": [
      "Cannot set properties of undefined (setting 'name')"
     ]
    }
   ],
   "source": [
    "\"use strict\";\n",
    "function Person(name) { this.name = name; }\n",
    "let ferdinand = Person(\"Ferdinand\"); // forgot new\n",
    "// → TypeError: Cannot set property 'name' of undefined"
   ]
  },
  {
   "cell_type": "markdown",
   "metadata": {},
   "source": [
    "In short, putting \"use strict\" at the top of your program rarely hurts and might help you spot a problem."
   ]
  },
  {
   "cell_type": "code",
   "execution_count": 6,
   "metadata": {
    "dotnet_interactive": {
     "language": "javascript"
    },
    "polyglot_notebook": {
     "kernelName": "javascript"
    },
    "vscode": {
     "languageId": "polyglot-notebook"
    }
   },
   "outputs": [
    {
     "ename": "Error",
     "evalue": "Unexpected token ':'",
     "output_type": "error",
     "traceback": [
      "Unexpected token ':'"
     ]
    }
   ],
   "source": [
    "{failed:\"s\"}"
   ]
  },
  {
   "cell_type": "markdown",
   "metadata": {},
   "source": [
    "## Exception"
   ]
  },
  {
   "cell_type": "markdown",
   "metadata": {},
   "source": [
    "When a function cannot proceed normally, what we would often like to do is just stop what we are doing and immediately jump to a place that knows how to handle the problem. This is what exception handling does."
   ]
  },
  {
   "cell_type": "code",
   "execution_count": 8,
   "metadata": {
    "dotnet_interactive": {
     "language": "javascript"
    },
    "polyglot_notebook": {
     "kernelName": "javascript"
    },
    "vscode": {
     "languageId": "polyglot-notebook"
    }
   },
   "outputs": [
    {
     "data": {
      "text/plain": [
       "Something went wrong: TypeError: Cannot read properties of null (reading 'toLowerCase')"
      ]
     },
     "metadata": {},
     "output_type": "display_data"
    }
   ],
   "source": [
    "function promptDirection(question) {\n",
    "    let result = prompt(question);\n",
    "    if (result.toLowerCase() == \"left\") return \"L\";\n",
    "    if (result.toLowerCase() == \"right\") return \"R\";\n",
    "    throw new Error(\"Invalid direction: \" + result);\n",
    "}\n",
    "\n",
    "function look() {\n",
    "    if (promptDirection(\"Which way?\") == \"L\") {\n",
    "        return \"a house\";\n",
    "    } else {\n",
    "        return \"two angry bears\";\n",
    "    }\n",
    "}\n",
    "\n",
    "try {\n",
    "    console.log(\"You see\", look());\n",
    "} catch (error) {\n",
    "    console.log(\"Something went wrong: \" + error);\n",
    "}"
   ]
  },
  {
   "cell_type": "markdown",
   "metadata": {},
   "source": [
    "- The `throw` keyword is used to raise an exception\n",
    "- `try..catch` block handle error"
   ]
  },
  {
   "cell_type": "markdown",
   "metadata": {},
   "source": [
    "Finally"
   ]
  },
  {
   "cell_type": "markdown",
   "metadata": {},
   "source": [
    "A finally block says “no matter what happens, run this code after trying to run the code in the try block.”"
   ]
  },
  {
   "cell_type": "code",
   "execution_count": 12,
   "metadata": {
    "dotnet_interactive": {
     "language": "javascript"
    },
    "polyglot_notebook": {
     "kernelName": "javascript"
    },
    "vscode": {
     "languageId": "polyglot-notebook"
    }
   },
   "outputs": [],
   "source": [
    "function transfer(from, amount) {\n",
    "    if (accounts[from] < amount) return;\n",
    "    let progress = 0;\n",
    "    try {\n",
    "        accounts[from] -= amount;\n",
    "        progress = 1;\n",
    "        accounts[getAccount()] += amount;\n",
    "        progress = 2;\n",
    "    } finally {\n",
    "        if (progress == 1) {\n",
    "        accounts[from] += amount;\n",
    "        }\n",
    "    }\n",
    "}"
   ]
  },
  {
   "cell_type": "markdown",
   "metadata": {},
   "source": [
    "Assertions"
   ]
  },
  {
   "cell_type": "markdown",
   "metadata": {},
   "source": [
    "Assertions are checks inside a program that verify that something is the way it is supposed to be"
   ]
  },
  {
   "cell_type": "code",
   "execution_count": 13,
   "metadata": {
    "dotnet_interactive": {
     "language": "javascript"
    },
    "polyglot_notebook": {
     "kernelName": "javascript"
    },
    "vscode": {
     "languageId": "polyglot-notebook"
    }
   },
   "outputs": [],
   "source": [
    "function firstElement(array) {\n",
    "    if (array.length == 0) {\n",
    "        throw new Error(\"firstElement called with []\");\n",
    "    }\n",
    "    \n",
    "    return array[0];\n",
    "}"
   ]
  }
 ],
 "metadata": {
  "language_info": {
   "name": "python"
  }
 },
 "nbformat": 4,
 "nbformat_minor": 2
}
