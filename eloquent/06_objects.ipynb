{
 "cells": [
  {
   "cell_type": "code",
   "execution_count": 3,
   "metadata": {
    "dotnet_interactive": {
     "language": "javascript"
    },
    "polyglot_notebook": {
     "kernelName": "javascript"
    },
    "vscode": {
     "languageId": "polyglot-notebook"
    }
   },
   "outputs": [
    {
     "data": {
      "application/json": {
       "name": "Lucas",
       "years": 12
      }
     },
     "metadata": {},
     "output_type": "display_data"
    }
   ],
   "source": [
    "const person = {\n",
    "    name: \"Lucas\",\n",
    "    years: 12\n",
    "}\n",
    "\n",
    "console.log(person)\n",
    "\n",
    "\n"
   ]
  },
  {
   "cell_type": "code",
   "execution_count": null,
   "metadata": {
    "dotnet_interactive": {
     "language": "csharp"
    },
    "polyglot_notebook": {
     "kernelName": "csharp"
    },
    "vscode": {
     "languageId": "polyglot-notebook"
    }
   },
   "outputs": [],
   "source": [
    "this (functions and arrows)\n",
    "Object functions\n",
    "for ... in (loop in objects)\n",
    "spred"
   ]
  },
  {
   "cell_type": "markdown",
   "metadata": {},
   "source": [
    "### `.this` properties"
   ]
  },
  {
   "cell_type": "code",
   "execution_count": 8,
   "metadata": {
    "dotnet_interactive": {
     "language": "javascript"
    },
    "polyglot_notebook": {
     "kernelName": "javascript"
    },
    "vscode": {
     "languageId": "polyglot-notebook"
    }
   },
   "outputs": [
    {
     "data": {
      "text/plain": [
       "Breno"
      ]
     },
     "metadata": {},
     "output_type": "display_data"
    },
    {
     "data": {
      "text/plain": [
       "Breno"
      ]
     },
     "metadata": {},
     "output_type": "display_data"
    }
   ],
   "source": [
    "const person = {\n",
    "    name:\"Breno\",\n",
    "    get_name(){\n",
    "        return this.name\n",
    "    }\n",
    "}\n",
    "\n",
    "\n",
    "// you can use this on, normal functions, to aim to the object\n",
    "// this point contexto to execute\n",
    "// normal function have contexto on executed object\n",
    "function ext_get_name(){\n",
    "    return this.name\n",
    "}\n",
    "\n",
    "console.log(person.get_name())\n",
    "\n",
    "person.ext_get_name = ext_get_name\n",
    "console.log(person.ext_get_name())\n",
    "\n",
    "\n",
    "// arrow function doesn't have this' context on object called, \n",
    "// but in the arrow, the context of this is on the object when it was create"
   ]
  },
  {
   "cell_type": "markdown",
   "metadata": {},
   "source": [
    "Value and reference\n",
    "\n",
    "Using literal notation when we copy the object we copy the real position in the memory and it aren't copy other object\n",
    "To copy the object to other object we need use `create`"
   ]
  },
  {
   "cell_type": "code",
   "execution_count": 9,
   "metadata": {
    "dotnet_interactive": {
     "language": "javascript"
    },
    "polyglot_notebook": {
     "kernelName": "javascript"
    },
    "vscode": {
     "languageId": "polyglot-notebook"
    }
   },
   "outputs": [
    {
     "data": {
      "text/plain": [
       "Gandalf"
      ]
     },
     "metadata": {},
     "output_type": "display_data"
    },
    {
     "data": {
      "text/plain": [
       "Saruman"
      ]
     },
     "metadata": {},
     "output_type": "display_data"
    }
   ],
   "source": [
    "const objPersonagem = {\n",
    "    nome: \"Gandalf\",\n",
    "    classe: \"mago\",\n",
    "    nivel: \"20\"\n",
    "   }\n",
    "    \n",
    "   const objPersonagem2 = Object.create(objPersonagem)\n",
    "   objPersonagem2.nome = \"Saruman\"\n",
    "    \n",
    "   console.log(objPersonagem.nome) //Gandalf\n",
    "   console.log(objPersonagem2.nome) //Saruman\n",
    "   "
   ]
  },
  {
   "cell_type": "code",
   "execution_count": null,
   "metadata": {
    "dotnet_interactive": {
     "language": "csharp"
    },
    "polyglot_notebook": {
     "kernelName": "csharp"
    },
    "vscode": {
     "languageId": "polyglot-notebook"
    }
   },
   "outputs": [],
   "source": [
    "// array is an object\n",
    "\n",
    "// The js is not able to print object type and functions"
   ]
  },
  {
   "cell_type": "markdown",
   "metadata": {},
   "source": [
    "We can use for ... in to iterate over object and see their properties"
   ]
  },
  {
   "cell_type": "code",
   "execution_count": 11,
   "metadata": {
    "dotnet_interactive": {
     "language": "javascript"
    },
    "polyglot_notebook": {
     "kernelName": "javascript"
    },
    "vscode": {
     "languageId": "polyglot-notebook"
    }
   },
   "outputs": [
    {
     "data": {
      "text/plain": [
       "name"
      ]
     },
     "metadata": {},
     "output_type": "display_data"
    },
    {
     "data": {
      "text/plain": [
       "get_name"
      ]
     },
     "metadata": {},
     "output_type": "display_data"
    }
   ],
   "source": [
    "\n",
    "const person = {\n",
    "    name:\"Breno\",\n",
    "    get_name(){\n",
    "        return this.name\n",
    "    }\n",
    "}\n",
    "\n",
    "for (let key in person){\n",
    "    console.log(key)\n",
    "}"
   ]
  },
  {
   "cell_type": "markdown",
   "metadata": {},
   "source": [
    "## Functions to handle object  "
   ]
  },
  {
   "cell_type": "markdown",
   "metadata": {},
   "source": [
    "To note the value of object you can use:\n",
    "\n",
    "- `.values`: returns the values of object \n",
    "- `.keys` : returns the keys of values\n",
    "- `.entries`: returns items(values and keys)\n",
    "- `.assing`: returns fusion of objects"
   ]
  },
  {
   "cell_type": "markdown",
   "metadata": {},
   "source": [
    "#### Using Keys and Values"
   ]
  },
  {
   "cell_type": "code",
   "execution_count": 14,
   "metadata": {
    "dotnet_interactive": {
     "language": "javascript"
    },
    "polyglot_notebook": {
     "kernelName": "javascript"
    },
    "vscode": {
     "languageId": "polyglot-notebook"
    }
   },
   "outputs": [
    {
     "data": {
      "application/json": [
       "a",
       "b",
       "c"
      ]
     },
     "metadata": {},
     "output_type": "display_data"
    },
    {
     "data": {
      "application/json": [
       1,
       2,
       3
      ]
     },
     "metadata": {},
     "output_type": "display_data"
    }
   ],
   "source": [
    "const meuObjeto = { a: 1, b: 2, c: 3 };\n",
    "const chaves = Object.keys(meuObjeto);\n",
    "const valores = Object.values(meuObjeto);\n",
    "\n",
    "console.log(chaves); // Saída: ['a', 'b', 'c']\n",
    "console.log(valores); // Saída: [1, 2, 3]"
   ]
  },
  {
   "cell_type": "markdown",
   "metadata": {},
   "source": [
    "### Entries"
   ]
  },
  {
   "cell_type": "code",
   "execution_count": 13,
   "metadata": {
    "dotnet_interactive": {
     "language": "javascript"
    },
    "polyglot_notebook": {
     "kernelName": "javascript"
    },
    "vscode": {
     "languageId": "polyglot-notebook"
    }
   },
   "outputs": [
    {
     "data": {
      "application/json": [
       [
        "a",
        1
       ],
       [
        "b",
        2
       ],
       [
        "c",
        3
       ]
      ]
     },
     "metadata": {},
     "output_type": "display_data"
    }
   ],
   "source": [
    "const meuObjeto = { a: 1, b: 2, c: 3 };\n",
    "const entradas = Object.entries(meuObjeto);\n",
    "\n",
    "console.log(entradas);\n",
    "// Saída: [['a', 1], ['b', 2], ['c', 3]]"
   ]
  },
  {
   "cell_type": "markdown",
   "metadata": {},
   "source": [
    "### Assing Objects"
   ]
  },
  {
   "cell_type": "code",
   "execution_count": 12,
   "metadata": {
    "dotnet_interactive": {
     "language": "javascript"
    },
    "polyglot_notebook": {
     "kernelName": "javascript"
    },
    "vscode": {
     "languageId": "polyglot-notebook"
    }
   },
   "outputs": [
    {
     "data": {
      "application/json": {
       "a": 1,
       "b": 3,
       "c": 4
      }
     },
     "metadata": {},
     "output_type": "display_data"
    }
   ],
   "source": [
    "const objetoOriginal = { a: 1, b: 2 };\n",
    "const objetoParaCopiar = { b: 3, c: 4 };\n",
    "\n",
    "const objetoFusionado = Object.assign({}, objetoOriginal, objetoParaCopiar);\n",
    "\n",
    "console.log(objetoFusionado);\n",
    "// Saída: { a: 1, b: 3, c: 4 }\n"
   ]
  },
  {
   "cell_type": "code",
   "execution_count": 19,
   "metadata": {
    "dotnet_interactive": {
     "language": "javascript"
    },
    "polyglot_notebook": {
     "kernelName": "javascript"
    },
    "vscode": {
     "languageId": "polyglot-notebook"
    }
   },
   "outputs": [
    {
     "ename": "Error",
     "evalue": "sum is not defined",
     "output_type": "error",
     "traceback": [
      "sum is not defined"
     ]
    }
   ],
   "source": [
    "const objPersonagem = {\n",
    "    nome: \"Gandalf\",\n",
    "    classe: \"mago\",\n",
    "    nivel: \"20\",\n",
    "    grades: [10,20,30,40]\n",
    "   }\n",
    "\n",
    "\n",
    "// const grade_mean = (grades) => grades\n",
    "\n",
    "// let final = grade_mean(...objPersonagem.grades)\n",
    "\n",
    "// console.log(final)"
   ]
  },
  {
   "cell_type": "markdown",
   "metadata": {},
   "source": [
    "Take care with spred\n",
    "\n",
    "[Destructuring](https://www.alura.com.br/artigos/es6-desestruturando-objetos?_gl=1*mwcnow*_ga*MTIyOTE0MzIyMy4xNzEzMDQyNDk0*_ga_1EPWSW3PCS*MTcxMzExMzkwMC4zLjEuMTcxMzExNTMxMy4wLjAuMA..*_fplc*TFhvVXVvVUh2b25mJTJCV0ltTEpibVdya3A2S2w3QiUyQlFkY1E0U0Y3Yk5xSGclMkZDWGh2RWJiQTB2UUNaU2lWU2UwR29RajdmakxwYk9hYnR5ZVA5YUxzMSUyQkpXSE10aDRmTVNiS01lOHB4ckxjbW55NThYY1ZBTmpsVjVndzNBZUElM0QlM0Q.)"
   ]
  },
  {
   "cell_type": "markdown",
   "metadata": {},
   "source": [
    "### How the create does:"
   ]
  },
  {
   "cell_type": "code",
   "execution_count": 1,
   "metadata": {
    "dotnet_interactive": {
     "language": "javascript"
    },
    "polyglot_notebook": {
     "kernelName": "javascript"
    },
    "vscode": {
     "languageId": "polyglot-notebook"
    }
   },
   "outputs": [
    {
     "data": {
      "text/plain": [
       "valor"
      ]
     },
     "metadata": {},
     "output_type": "display_data"
    }
   ],
   "source": [
    "const objetoOriginal = { chave: 'valor' };\n",
    "const copiaProfunda = JSON.parse(JSON.stringify(objetoOriginal));\n",
    "\n",
    "copiaProfunda.chave = 'novoValor';\n",
    "console.log(objetoOriginal.chave); // Saída: valor\n"
   ]
  },
  {
   "cell_type": "code",
   "execution_count": 5,
   "metadata": {
    "dotnet_interactive": {
     "language": "javascript"
    },
    "polyglot_notebook": {
     "kernelName": "javascript"
    },
    "vscode": {
     "languageId": "polyglot-notebook"
    }
   },
   "outputs": [
    {
     "ename": "Error",
     "evalue": "Module name \"eloquent/estudante.json\" has not been loaded yet for context: _. Use require([])\nhttps://requirejs.org/docs/errors.html#notloaded",
     "output_type": "error",
     "traceback": [
      "Module name \"eloquent/estudante.json\" has not been loaded yet for context: _. Use require([])\n",
      "https://requirejs.org/docs/errors.html#notloaded"
     ]
    }
   ],
   "source": [
    "const students = require(\"eloquent/estudante.json\");"
   ]
  }
 ],
 "metadata": {
  "language_info": {
   "name": "python"
  }
 },
 "nbformat": 4,
 "nbformat_minor": 2
}
